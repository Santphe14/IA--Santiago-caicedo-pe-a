{
 "cells": [
  {
   "cell_type": "markdown",
   "id": "3c891469",
   "metadata": {},
   "source": [
    "# TALLER CONDICIONALES, BUCLES Y FUNCIONES\n",
    "Santiago Caicedo Peña"
   ]
  },
  {
   "cell_type": "markdown",
   "id": "a40cc990",
   "metadata": {},
   "source": [
    "## Ejercicio 1\n",
    "Escribe un programa que pida la inflación y muestre el porcentaje de aumento salarial aprobado teniendo en cuenta las siguientes condiciones:\n",
    "\n",
    "- Si la inflación es mayor al 10%, el gobierno aprueba un aumento salarial del 12%.\n",
    "\n",
    "- Si la inflación está entre 6% y 10%, el aumento es del 8%.\n",
    "\n",
    "- Si es menor al 6%, el aumento es del 5%."
   ]
  },
  {
   "cell_type": "code",
   "execution_count": 3,
   "id": "6d15356e",
   "metadata": {},
   "outputs": [
    {
     "name": "stdout",
     "output_type": "stream",
     "text": [
      "la Inflacion fue de 6.0 y el aumento salarial sera del 5%\n"
     ]
    }
   ],
   "source": [
    "Inflacion = float(input(\"La inflacion fue de:  (en porcentaje)\"))\n",
    "if Inflacion > 10 :\n",
    "    print(f\"La inflacion fue de {Inflacion} y el aumento salarial sera del 15%\")\n",
    "elif Inflacion > 6 :\n",
    "    print(f\"la Inflacion fue de {Inflacion} y el aumento salarial sera del 8%\")\n",
    "elif Inflacion <= 6 :\n",
    "    print(f\"la Inflacion fue de {Inflacion} y el aumento salarial sera del 5%\")\n",
    "else :\n",
    "    print(\"Error de digitacion\")"
   ]
  },
  {
   "cell_type": "markdown",
   "id": "5e28b845",
   "metadata": {},
   "source": [
    "## **Ejercicio 2**\n",
    "Tienes una lista con el número de empresas registradas en diferentes ciudades. Usa un ciclo for para contar cuántas ciudades tienen más de 100 empresas y muestra el resultado en pantalla como: \"Número de ciudades con más de 100 empresas: X\""
   ]
  },
  {
   "cell_type": "code",
   "execution_count": 4,
   "id": "51842040",
   "metadata": {},
   "outputs": [],
   "source": [
    "empresas = [120, 85, 340, 210, 95]"
   ]
  },
  {
   "cell_type": "code",
   "execution_count": 10,
   "id": "b3a8c1b9",
   "metadata": {},
   "outputs": [
    {
     "name": "stdout",
     "output_type": "stream",
     "text": [
      "Numero de ciudades con mas de 100 empresas:  1\n",
      "Numero de ciudades con mas de 100 empresas:  2\n",
      "Numero de ciudades con mas de 100 empresas:  3\n"
     ]
    }
   ],
   "source": [
    "count = 0\n",
    "for i in empresas:\n",
    "    if i > 100:\n",
    "        count += 1\n",
    "        print(\"Numero de ciudades con mas de 100 empresas: \", count)"
   ]
  },
  {
   "cell_type": "markdown",
   "id": "9949289b",
   "metadata": {},
   "source": [
    "## **Ejercicio 3**\n",
    "Escribe un programa que imprima todos los múltiplos de 5 entre 1 y 50, utilizando range()."
   ]
  },
  {
   "cell_type": "code",
   "execution_count": 11,
   "id": "e65501e8",
   "metadata": {},
   "outputs": [
    {
     "name": "stdout",
     "output_type": "stream",
     "text": [
      "5\n",
      "10\n",
      "15\n",
      "20\n",
      "25\n",
      "30\n",
      "35\n",
      "40\n",
      "45\n",
      "50\n"
     ]
    }
   ],
   "source": [
    "for i in range(1, 51):\n",
    "    if i % 5 == 0:\n",
    "      print(i)"
   ]
  },
  {
   "cell_type": "markdown",
   "id": "e922af07",
   "metadata": {},
   "source": [
    "## **Ejercicio 4**\n",
    "Un cajero automático tiene 500.000 pesos disponibles.\n",
    "Un usuario puede retirar varias veces, pero no puede retirar más de lo que queda en el cajero. Escribe un programa que:\n",
    "\n",
    "- Pregunte cuánto quiere retirar.\n",
    "\n",
    "- Reste ese valor al saldo.\n",
    "\n",
    "- Termine cuando el saldo llegue a 0 o el usuario escriba 0."
   ]
  },
  {
   "cell_type": "code",
   "execution_count": null,
   "id": "edaca934",
   "metadata": {},
   "outputs": [
    {
     "name": "stdout",
     "output_type": "stream",
     "text": [
      "\n",
      "Saldo disponible: 500000 pesos\n",
      "✅ Ha retirado 500 pesos.\n",
      "\n",
      "Saldo disponible: 499500 pesos\n",
      "Operación finalizada por el usuario.\n"
     ]
    }
   ],
   "source": [
    "# Cajero automático\n",
    "saldo = 500000  # saldo inicial del cajero\n",
    "\n",
    "while saldo > 0:\n",
    "    print(f\"Saldo disponible: {saldo} pesos\")\n",
    "    retiro = int(input(\"¿Cuánto desea retirar? (Escriba 0 para salir): \"))\n",
    "\n",
    "    if retiro == 0:\n",
    "        print(\"Operación finalizada por el usuario.\")\n",
    "        break\n",
    "    elif retiro > saldo:\n",
    "        print(\" No puede retirar más de lo que hay en el cajero.\")\n",
    "    elif retiro < 0:\n",
    "        print(\" El valor a retirar no puede ser negativo.\")\n",
    "    else:\n",
    "        saldo -= retiro\n",
    "        print(f\" Ha retirado {retiro} pesos.\")\n",
    "\n",
    "if saldo == 0:\n",
    "    print(\" El cajero se quedó sin fondos. Programa terminado.\")\n"
   ]
  },
  {
   "cell_type": "markdown",
   "id": "368afc20",
   "metadata": {},
   "source": [
    "## **Ejercicio 5**\n",
    "Crea una función raiz_cuadrada(num) que calcule la raíz cuadrada de un número.\n",
    "\n",
    "Si el número es negativo, devuelve: \"Error: no se puede calcular la raíz cuadrada de un número negativo.\"\n",
    "\n",
    "Si el valor no es numérico, devuelve: \"Error: el valor debe ser numérico.\"\n",
    "\n",
    "NOTA: utiliza import math y la función math.sqrt(num)"
   ]
  },
  {
   "cell_type": "code",
   "execution_count": 18,
   "id": "ab0df8ca",
   "metadata": {},
   "outputs": [],
   "source": [
    "import math\n",
    "\n",
    "def raiz_cuadrada(num):\n",
    "  try:\n",
    "    if num < 0:\n",
    "      return \"Error: no se puede calcular la raíz cuadrada de un número negativo.\"\n",
    "    else:\n",
    "      return math.sqrt(num)\n",
    "  except TypeError:\n",
    "    return \"Error: el valor debe ser numérico.\""
   ]
  },
  {
   "cell_type": "code",
   "execution_count": 19,
   "id": "c8add789",
   "metadata": {},
   "outputs": [
    {
     "name": "stdout",
     "output_type": "stream",
     "text": [
      "4.0\n"
     ]
    }
   ],
   "source": [
    "print(raiz_cuadrada(16))    # 4.0"
   ]
  },
  {
   "cell_type": "code",
   "execution_count": 20,
   "id": "79048b14",
   "metadata": {},
   "outputs": [
    {
     "name": "stdout",
     "output_type": "stream",
     "text": [
      "Error: no se puede calcular la raíz cuadrada de un número negativo.\n"
     ]
    }
   ],
   "source": [
    "print(raiz_cuadrada(-9))    # Error: no se puede calcular la raíz cuadrada de un número negativo."
   ]
  },
  {
   "cell_type": "code",
   "execution_count": 21,
   "id": "6a33cc64",
   "metadata": {},
   "outputs": [
    {
     "name": "stdout",
     "output_type": "stream",
     "text": [
      "Error: el valor debe ser numérico.\n"
     ]
    }
   ],
   "source": [
    "print(raiz_cuadrada(\"abc\")) # Error: el valor debe ser numérico."
   ]
  },
  {
   "cell_type": "markdown",
   "id": "4d324fde",
   "metadata": {},
   "source": [
    "## **Ejercicio 6**\n",
    "Escribe una función llamada es_par que reciba un número entero como parámetro y retorne True si el número es par y False si es impar.\n",
    "\n",
    "NOTA: % es el operador módulo en Python. Lo que hace es dividir un número entre otro y devolver el residuo (lo que sobra de la división entera).\n",
    "\n",
    "Si al dividir un número en 2, el residuo es cero, entonces el número es par, de lo contrario, es impar."
   ]
  },
  {
   "cell_type": "code",
   "execution_count": 22,
   "id": "7e3df3ca",
   "metadata": {},
   "outputs": [],
   "source": [
    "def es_par(numero):\n",
    "  try:\n",
    "    if numero % 2 == 0:\n",
    "      return True\n",
    "    else:\n",
    "      return False\n",
    "  except TypeError:\n",
    "    return \"Error: el valor debe ser numérico.\""
   ]
  },
  {
   "cell_type": "code",
   "execution_count": 23,
   "id": "d7cfc2dd",
   "metadata": {},
   "outputs": [
    {
     "name": "stdout",
     "output_type": "stream",
     "text": [
      "True\n"
     ]
    }
   ],
   "source": [
    "print(es_par(10))   # Debería imprimir True"
   ]
  },
  {
   "cell_type": "code",
   "execution_count": 24,
   "id": "f150590f",
   "metadata": {},
   "outputs": [
    {
     "name": "stdout",
     "output_type": "stream",
     "text": [
      "False\n"
     ]
    }
   ],
   "source": [
    "print(es_par(7))    # Debería imprimir False"
   ]
  },
  {
   "cell_type": "markdown",
   "id": "194dd577",
   "metadata": {},
   "source": [
    "## **Ejercicio 7**\n",
    "Escribe un código que permita al usuario crear una contraseña y que verifique que esta cumpla todas las siguientes condiciones:\n",
    "\n",
    "- Tiene al menos 8 caracteres.\n",
    "\n",
    "- Contiene al menos una letra mayúscula.\n",
    "\n",
    "- Contiene al menos una letra minúscula.\n",
    "\n",
    "- Contiene al menos un número.\n",
    "\n",
    "Si cumple todas las condiciones, muestra \"Contraseña válida\", de lo contrario, explica qué condición no se cumple."
   ]
  },
  {
   "cell_type": "code",
   "execution_count": 25,
   "id": "41d8d85d",
   "metadata": {},
   "outputs": [
    {
     "name": "stdout",
     "output_type": "stream",
     "text": [
      "Contraseña válida\n"
     ]
    }
   ],
   "source": [
    "contraseña = input(\"Ingrese una contraseña: \")\n",
    "if len(contraseña) < 8:\n",
    "  print(\"La contraseña debe tener al menos 8 caracteres\")\n",
    "elif not any(char.isupper() for char in contraseña):\n",
    "    print(\"La contraseña debe contener al menos una letra mayúscula\")\n",
    "elif not any(char.islower() for char in contraseña):\n",
    "      print(\"La contraseña debe contener al menos una letra minúscula\")\n",
    "elif not any(char.isdigit() for char in contraseña):\n",
    "        print(\"La contraseña debe contener al menos un número\")\n",
    "else:\n",
    "          print(\"Contraseña válida\")"
   ]
  },
  {
   "cell_type": "markdown",
   "id": "9f1bb056",
   "metadata": {},
   "source": [
    "## **Ejercicio 8**\n",
    "Crea una función llamada \"extraer_dominio\" que extraiga el dominio de una página web a partir de una cadena que contenga un email de la siguiente forma:\n",
    "\n",
    "usuario@dominio.com\n",
    "    \n",
    "Por ejemplo: si se le pasa \"lmcastroco@gmail.com\", la función retornará: gmail.com"
   ]
  },
  {
   "cell_type": "code",
   "execution_count": 26,
   "id": "8309c444",
   "metadata": {},
   "outputs": [],
   "source": [
    "def extraer_dominio(email):\n",
    "    dominio = email.split(\"@\")[1]\n",
    "    return dominio"
   ]
  },
  {
   "cell_type": "code",
   "execution_count": 27,
   "id": "13fad8c2",
   "metadata": {},
   "outputs": [
    {
     "data": {
      "text/plain": [
       "'gmail.com'"
      ]
     },
     "execution_count": 27,
     "metadata": {},
     "output_type": "execute_result"
    }
   ],
   "source": [
    "extraer_dominio('juanita@gmail.com')  # Debería retornar 'gmail.com'"
   ]
  },
  {
   "cell_type": "code",
   "execution_count": 28,
   "id": "609c88f6",
   "metadata": {},
   "outputs": [
    {
     "data": {
      "text/plain": [
       "'hotmail.com'"
      ]
     },
     "execution_count": 28,
     "metadata": {},
     "output_type": "execute_result"
    }
   ],
   "source": [
    "extraer_dominio('juanita.perez@hotmail.com') # Debería retornar 'hotmail.com'"
   ]
  },
  {
   "cell_type": "markdown",
   "id": "8aafd9b6",
   "metadata": {},
   "source": [
    "## **Ejercicio 9**\n",
    "Escribe una función llamada contar_desempleo que reciba una cadena y retorne el número de veces que aparece la palabra \"desempleo\" en el texto. Ten en cuenta que la palabra puede estar en mayúsculas, minúsculas o una mezcla de ellas, pero por ahora no te preocupes por casos especiales como cuando la palabra tiene algún signo de puntuación inmediatamente despúes de ésta."
   ]
  },
  {
   "cell_type": "code",
   "execution_count": 29,
   "id": "e7782e97",
   "metadata": {},
   "outputs": [],
   "source": [
    "def contar_desempleo(cadena):\n",
    "  desempleo = cadena.lower().split().count('desempleo')\n",
    "  return desempleo"
   ]
  },
  {
   "cell_type": "code",
   "execution_count": 30,
   "id": "35fbb640",
   "metadata": {},
   "outputs": [
    {
     "data": {
      "text/plain": [
       "2"
      ]
     },
     "execution_count": 30,
     "metadata": {},
     "output_type": "execute_result"
    }
   ],
   "source": [
    "contar_desempleo(\"El desempleo es un problema. El DESEMPLEO afecta a muchas personas.\")"
   ]
  },
  {
   "cell_type": "code",
   "execution_count": 31,
   "id": "7fe66eba",
   "metadata": {},
   "outputs": [
    {
     "data": {
      "text/plain": [
       "1"
      ]
     },
     "execution_count": 31,
     "metadata": {},
     "output_type": "execute_result"
    }
   ],
   "source": [
    "contar_desempleo(\"El dEseMPLeo aumentó en enero.\")"
   ]
  },
  {
   "cell_type": "code",
   "execution_count": 32,
   "id": "51969d99",
   "metadata": {},
   "outputs": [
    {
     "data": {
      "text/plain": [
       "0"
      ]
     },
     "execution_count": 32,
     "metadata": {},
     "output_type": "execute_result"
    }
   ],
   "source": [
    "contar_desempleo(\"El gobierno tiene como meta reducir el número de personas desocupadas un 10%.\")"
   ]
  },
  {
   "cell_type": "markdown",
   "id": "48fd75ca",
   "metadata": {},
   "source": [
    "## **Ejercicio 10**\n",
    "Vas conduciendo un carro muy rápido y eres detenido por un agente de tránsito.\n",
    "\n",
    "Escribe una función \"multa\" que retorne uno de los 3 siguientes resultados:  \n",
    "\n",
    "- Si la velocidad es 60 Km/h o menos, el resultado es \"Sin multa\".\n",
    "- Si la velocidad está entre 60 y 80 Km/h (inclusive), el resultado es \"Multa pequeña\".\n",
    "- Si la velocidad es mayor a 80 Km/h, el resultado es \"Multa grande\".\n",
    "\n",
    "Además, considera que si esto ocurre el día de tu cumpleaños (codificado como parámetro booleano que recibe la función), tu velocidad podría ser 5 Km/ mayor en todos los casos."
   ]
  },
  {
   "cell_type": "code",
   "execution_count": 33,
   "id": "adf9cbc9",
   "metadata": {},
   "outputs": [],
   "source": [
    "def multa(velocidad, cumpleanios):\n",
    "  if velocidad <= 60 + 5*cumpleanios:\n",
    "    return \"Sin multa\"\n",
    "  elif velocidad <= 80 + 5*cumpleanios:\n",
    "    return \"Multa pequeña\"\n",
    "  else:\n",
    "    return \"Multa grande\""
   ]
  },
  {
   "cell_type": "code",
   "execution_count": 39,
   "id": "5aef053d",
   "metadata": {},
   "outputs": [
    {
     "data": {
      "text/plain": [
       "'Multa pequeña'"
      ]
     },
     "execution_count": 39,
     "metadata": {},
     "output_type": "execute_result"
    }
   ],
   "source": [
    "multa(83, True)"
   ]
  },
  {
   "cell_type": "code",
   "execution_count": 38,
   "id": "b72c5408",
   "metadata": {},
   "outputs": [
    {
     "data": {
      "text/plain": [
       "'Multa grande'"
      ]
     },
     "execution_count": 38,
     "metadata": {},
     "output_type": "execute_result"
    }
   ],
   "source": [
    "multa(83, False)"
   ]
  }
 ],
 "metadata": {
  "kernelspec": {
   "display_name": ".venv",
   "language": "python",
   "name": "python3"
  },
  "language_info": {
   "codemirror_mode": {
    "name": "ipython",
    "version": 3
   },
   "file_extension": ".py",
   "mimetype": "text/x-python",
   "name": "python",
   "nbconvert_exporter": "python",
   "pygments_lexer": "ipython3",
   "version": "3.13.7"
  }
 },
 "nbformat": 4,
 "nbformat_minor": 5
}

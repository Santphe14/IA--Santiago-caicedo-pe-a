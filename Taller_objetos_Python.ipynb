{
 "cells": [
  {
   "cell_type": "code",
   "execution_count": null,
   "id": "f0661081",
   "metadata": {},
   "outputs": [],
   "source": []
  },
  {
   "cell_type": "markdown",
   "id": "2a5646ed",
   "metadata": {},
   "source": [
    "# Taller tipos de objetos y estructura de datos secuenciales y no secuenciales."
   ]
  },
  {
   "cell_type": "markdown",
   "id": "eb624db1",
   "metadata": {},
   "source": [
    "## Santiago Caicedo Peña"
   ]
  },
  {
   "cell_type": "markdown",
   "id": "eabf6ad2",
   "metadata": {},
   "source": [
    "1.\n",
    "¿Cuál de los siguientes NO es un tipo de objeto básico en Python?\n",
    "- a)  Números\n",
    "- b) Cadenas de texto\n",
    "- c) Conjuntos\n",
    "- d) Funciones matemáticas"
   ]
  },
  {
   "cell_type": "markdown",
   "id": "1c7d664d",
   "metadata": {},
   "source": [
    "## Resuesta 1. \n",
    "- d) Funiones matematias"
   ]
  },
  {
   "cell_type": "markdown",
   "id": "18eec658",
   "metadata": {},
   "source": [
    "2.\n",
    "En Python, los valores True y False pertenecen al tipo:\n",
    "- a) Entero\n",
    "- b) Booleano\n",
    "- c) Cadena\n",
    "- d) Conjunto"
   ]
  },
  {
   "cell_type": "markdown",
   "id": "eec8f0a7",
   "metadata": {},
   "source": [
    "## Respuesta 2.\n",
    "- b) Booleano"
   ]
  },
  {
   "cell_type": "markdown",
   "id": "0667674b",
   "metadata": {},
   "source": [
    "3.\n",
    "¿Cuál de los siguientes objetos se considera un tipo numérico en Python?\n",
    "- a) int, float y complex\n",
    "- b) str, int y tuple\n",
    "- c) list, set y dict\n",
    "- d) bool, tuple y set"
   ]
  },
  {
   "cell_type": "markdown",
   "id": "bb00d2d3",
   "metadata": {},
   "source": [
    "## Respuesta 3. \n",
    "- a) int, float y complex"
   ]
  },
  {
   "cell_type": "markdown",
   "id": "958302bb",
   "metadata": {},
   "source": [
    "4.\n",
    "¿Qué imprime este código?\n",
    "x = (1, 2, 3)\n",
    "print(x[1])\n",
    "- a) 1\n",
    "- b) 2\n",
    "- c) 3\n",
    "- d) Error"
   ]
  },
  {
   "cell_type": "code",
   "execution_count": 1,
   "id": "732ff23e",
   "metadata": {},
   "outputs": [
    {
     "name": "stdout",
     "output_type": "stream",
     "text": [
      "2\n"
     ]
    }
   ],
   "source": [
    "x = (1, 2, 3)\n",
    "print(x[1])"
   ]
  },
  {
   "cell_type": "markdown",
   "id": "d5474a61",
   "metadata": {},
   "source": [
    "## Respuesta 4. \n",
    "- b) 2"
   ]
  },
  {
   "cell_type": "markdown",
   "id": "fe833b97",
   "metadata": {},
   "source": [
    "5.\n",
    "¿Cuál es el error en este código?\n",
    "t = (1, 2, 3)\n",
    "t[0] = 10\n",
    "- a) No hay error\n",
    "- b) Las tuplas son mutables\n",
    "- c) Las tuplas son inmutables\n",
    "- d) Error de sintaxis\n"
   ]
  },
  {
   "cell_type": "markdown",
   "id": "10c813b6",
   "metadata": {},
   "source": [
    "## Respuesta 5\n",
    "- c) Las tuplas son inmutables"
   ]
  },
  {
   "cell_type": "markdown",
   "id": "eaaf4e20",
   "metadata": {},
   "source": [
    "6.\n",
    "¿Qué resultado produce?\n",
    "s = {1, 2, 2, 3, 3}\n",
    "print(s)\n",
    "- a) {1, 2, 2, 3, 3}\n",
    "- b) {1, 2, 3}\n",
    "- c) [1, 2, 3]\n",
    "- d) Error\n"
   ]
  },
  {
   "cell_type": "code",
   "execution_count": 3,
   "id": "555c1a89",
   "metadata": {},
   "outputs": [
    {
     "name": "stdout",
     "output_type": "stream",
     "text": [
      "{1, 2, 3}\n"
     ]
    }
   ],
   "source": [
    "s = {1, 2, 2, 3, 3}\n",
    "print(s)"
   ]
  },
  {
   "cell_type": "markdown",
   "id": "2205f84f",
   "metadata": {},
   "source": [
    "## Respuesta 6\n",
    "- b) {1, 2, 3}"
   ]
  },
  {
   "cell_type": "markdown",
   "id": "f28ef430",
   "metadata": {},
   "source": [
    "7.\n",
    "¿Cuál es la salida?\n",
    "palabra = \"Mundo\"\n",
    "print(palabra[1:4])\n",
    "- a) \"Mund\"\n",
    "- b) \"M\"\n",
    "- c) \"und\"\n",
    "- d) \"ndo\"\n"
   ]
  },
  {
   "cell_type": "code",
   "execution_count": 5,
   "id": "94ef9a23",
   "metadata": {},
   "outputs": [
    {
     "name": "stdout",
     "output_type": "stream",
     "text": [
      "und\n"
     ]
    }
   ],
   "source": [
    "palabra = \"Mundo\"\n",
    "print(palabra[1:4])"
   ]
  },
  {
   "cell_type": "markdown",
   "id": "e5aaf5bf",
   "metadata": {},
   "source": [
    "## Respuesta 7.\n",
    "- c) \"und\""
   ]
  },
  {
   "cell_type": "markdown",
   "id": "335034ac",
   "metadata": {},
   "source": [
    "8.\n",
    "¿Qué imprime?\n",
    "lista = [10, 20, 30]\n",
    "lista.append(40)\n",
    "print(lista)\n",
    "- a) [10, 20, 30]\n",
    "- b) [10, 20, 30, 40]\n",
    "- c) [40, 10, 20, 30]\n",
    "- d) Error\n"
   ]
  },
  {
   "cell_type": "code",
   "execution_count": 6,
   "id": "01cf1430",
   "metadata": {},
   "outputs": [
    {
     "name": "stdout",
     "output_type": "stream",
     "text": [
      "[10, 20, 30, 40]\n"
     ]
    }
   ],
   "source": [
    "lista = [10, 20, 30]\n",
    "lista.append(40)\n",
    "print(lista)"
   ]
  },
  {
   "cell_type": "markdown",
   "id": "888bdd7d",
   "metadata": {},
   "source": [
    "## Respuesta 8.\n",
    "- b) [10, 20, 30, 40]"
   ]
  },
  {
   "cell_type": "markdown",
   "id": "2f36da32",
   "metadata": {},
   "source": [
    "9.\n",
    "¿Qué ocurre?\n",
    "dic = {\"a\": 1, \"b\": 2}\n",
    "print(dic[\"c\"])\n",
    "- a) 0\n",
    "- b) None\n",
    "- c) Error\n",
    "- d) \"c\""
   ]
  },
  {
   "cell_type": "code",
   "execution_count": 7,
   "id": "fa9028c3",
   "metadata": {},
   "outputs": [
    {
     "ename": "KeyError",
     "evalue": "'c'",
     "output_type": "error",
     "traceback": [
      "\u001b[31m---------------------------------------------------------------------------\u001b[39m",
      "\u001b[31mKeyError\u001b[39m                                  Traceback (most recent call last)",
      "\u001b[36mCell\u001b[39m\u001b[36m \u001b[39m\u001b[32mIn[7]\u001b[39m\u001b[32m, line 2\u001b[39m\n\u001b[32m      1\u001b[39m dic = {\u001b[33m\"\u001b[39m\u001b[33ma\u001b[39m\u001b[33m\"\u001b[39m: \u001b[32m1\u001b[39m, \u001b[33m\"\u001b[39m\u001b[33mb\u001b[39m\u001b[33m\"\u001b[39m: \u001b[32m2\u001b[39m}\n\u001b[32m----> \u001b[39m\u001b[32m2\u001b[39m \u001b[38;5;28mprint\u001b[39m(\u001b[43mdic\u001b[49m\u001b[43m[\u001b[49m\u001b[33;43m\"\u001b[39;49m\u001b[33;43mc\u001b[39;49m\u001b[33;43m\"\u001b[39;49m\u001b[43m]\u001b[49m)\n",
      "\u001b[31mKeyError\u001b[39m: 'c'"
     ]
    }
   ],
   "source": [
    "dic = {\"a\": 1, \"b\": 2}\n",
    "print(dic[\"c\"])"
   ]
  },
  {
   "cell_type": "markdown",
   "id": "0c5c8056",
   "metadata": {},
   "source": [
    "## Respuesta 9. \n",
    "- c) Error"
   ]
  },
  {
   "cell_type": "markdown",
   "id": "e5303dae",
   "metadata": {},
   "source": [
    "10.\n",
    "Elige la opción correcta para obtener el valor 3 de este diccionario:\n",
    "d = {\"x\": 1, \"y\": 2, \"z\": 3}\n",
    "- a) d[\"z\"]\n",
    "- b) d[3]\n",
    "- c) d.z\n",
    "- d) d.get(\"a\")"
   ]
  },
  {
   "cell_type": "code",
   "execution_count": 8,
   "id": "ef4975fc",
   "metadata": {},
   "outputs": [
    {
     "data": {
      "text/plain": [
       "3"
      ]
     },
     "execution_count": 8,
     "metadata": {},
     "output_type": "execute_result"
    }
   ],
   "source": [
    "d = {\"x\": 1, \"y\": 2, \"z\": 3}\n",
    "d[\"z\"]"
   ]
  },
  {
   "cell_type": "markdown",
   "id": "736b1eaa",
   "metadata": {},
   "source": [
    "## Respuesta 10.\n",
    "- a) d[\"z\"]"
   ]
  },
  {
   "cell_type": "markdown",
   "id": "a616fc3d",
   "metadata": {},
   "source": [
    "11.\n",
    "¿Qué devuelve este código?\n",
    "print(type(3.0))\n",
    "- a) int\n",
    "- b) float\n",
    "- c) str\n",
    "- d) complex\n"
   ]
  },
  {
   "cell_type": "code",
   "execution_count": 9,
   "id": "fc7d7332",
   "metadata": {},
   "outputs": [
    {
     "name": "stdout",
     "output_type": "stream",
     "text": [
      "<class 'float'>\n"
     ]
    }
   ],
   "source": [
    "print(type(3.0))"
   ]
  },
  {
   "cell_type": "markdown",
   "id": "1b446c1f",
   "metadata": {},
   "source": [
    "## Respuesta 11.\n",
    "- b) float"
   ]
  },
  {
   "cell_type": "markdown",
   "id": "0e232cb7",
   "metadata": {},
   "source": [
    "12.\n",
    "¿Cuál es el resultado?\n",
    "x = [1, 2, 3]\n",
    "y = x\n",
    "y.append(4)\n",
    "print(x)\n",
    "- a) [1, 2, 3]\n",
    "- b) [1, 2, 3, 4]\n",
    "- c) Error\n",
    "- d) [4]\n"
   ]
  },
  {
   "cell_type": "code",
   "execution_count": 10,
   "id": "f51c0eae",
   "metadata": {},
   "outputs": [
    {
     "name": "stdout",
     "output_type": "stream",
     "text": [
      "[1, 2, 3, 4]\n"
     ]
    }
   ],
   "source": [
    "x = [1, 2, 3]\n",
    "y = x\n",
    "y.append(4)\n",
    "print(x)"
   ]
  },
  {
   "cell_type": "markdown",
   "id": "7dfad67e",
   "metadata": {},
   "source": [
    "## Respuesta 12.\n",
    "- b) [1, 2, 3, 4]"
   ]
  },
  {
   "cell_type": "markdown",
   "id": "9e9bf79a",
   "metadata": {},
   "source": [
    "13.\n",
    "numeros = [\"10\", \"20\", \"30\"]\n",
    "resultado = \",\".join(numeros)\n",
    "El valor de resultado será:\n",
    "- a) 10,20,30 (como enteros)\n",
    "- b) \"10,20,30\"\n",
    "- c) [\"10,20,30\"]\n",
    "- d) (10,20,30)"
   ]
  },
  {
   "cell_type": "code",
   "execution_count": 13,
   "id": "3e1e90ba",
   "metadata": {},
   "outputs": [
    {
     "name": "stdout",
     "output_type": "stream",
     "text": [
      "10,20,30\n",
      "<class 'str'>\n"
     ]
    }
   ],
   "source": [
    "numeros = [\"10\", \"20\", \"30\"]\n",
    "resultado = \",\".join(numeros)\n",
    "print(resultado)\n",
    "print(type(resultado))"
   ]
  },
  {
   "cell_type": "markdown",
   "id": "38786c96",
   "metadata": {},
   "source": [
    "## Resuesta 13. \n",
    "- b) \"10,20,30\""
   ]
  },
  {
   "cell_type": "markdown",
   "id": "db10d7ee",
   "metadata": {},
   "source": [
    "14.\n",
    "Completa el código para convertir un conjunto a lista:\n",
    "s = {1, 2, 3}\n",
    "____\n",
    "- a) list(s)\n",
    "- b) tuple(s)\n",
    "- c) dict(s)\n",
    "- d) set(s)"
   ]
  },
  {
   "cell_type": "code",
   "execution_count": 14,
   "id": "5655c7ed",
   "metadata": {},
   "outputs": [
    {
     "data": {
      "text/plain": [
       "[1, 2, 3]"
      ]
     },
     "execution_count": 14,
     "metadata": {},
     "output_type": "execute_result"
    }
   ],
   "source": [
    "s = {1, 2, 3}\n",
    "list(s)"
   ]
  },
  {
   "cell_type": "markdown",
   "id": "5d22c4db",
   "metadata": {},
   "source": [
    "## respuesta 14.\n",
    "- a) list(s)"
   ]
  },
  {
   "cell_type": "markdown",
   "id": "7efd46ed",
   "metadata": {},
   "source": [
    "15.\n",
    "¿Cuál es la salida?\n",
    "cadena = \"Hola\"\n",
    "print(cadena * 3)\n",
    "- a) \"Hola Hola Hola\"\n",
    "- b) \"HolaHolaHola\"\n",
    "- c) [Hola, Hola, Hola]\n",
    "- d) Error\n"
   ]
  },
  {
   "cell_type": "code",
   "execution_count": 15,
   "id": "63d4aec9",
   "metadata": {},
   "outputs": [
    {
     "name": "stdout",
     "output_type": "stream",
     "text": [
      "HolaHolaHola\n"
     ]
    }
   ],
   "source": [
    "cadena = \"Hola\"\n",
    "print(cadena * 3)"
   ]
  },
  {
   "cell_type": "markdown",
   "id": "32c2743a",
   "metadata": {},
   "source": [
    "## Respuesta 15.\n",
    "- b) \"HolaHolaHola\""
   ]
  },
  {
   "cell_type": "markdown",
   "id": "16b7fb87",
   "metadata": {},
   "source": [
    "16.\n",
    "¿Qué valor imprime?\n",
    "lista = [10, 20, 30]\n",
    "print(lista[-1])\n",
    "- a) 10\n",
    "- b) 20\n",
    "- c) 30\n",
    "- d) Error"
   ]
  },
  {
   "cell_type": "code",
   "execution_count": 16,
   "id": "5af4b6a4",
   "metadata": {},
   "outputs": [
    {
     "name": "stdout",
     "output_type": "stream",
     "text": [
      "30\n"
     ]
    }
   ],
   "source": [
    "lista = [10, 20, 30]\n",
    "print(lista[-1])"
   ]
  },
  {
   "cell_type": "markdown",
   "id": "9cad9e6c",
   "metadata": {},
   "source": [
    "## Respuesta 16.\n",
    "- c) 30"
   ]
  },
  {
   "cell_type": "markdown",
   "id": "7f8f1d88",
   "metadata": {},
   "source": [
    "17.\n",
    "precios = [1200, 500, 3400, 800]\n",
    "precios.sort()\n",
    "¿Qué contendrá precios después de ejecutar el código?\n",
    "- a) [500, 800, 1200, 3400]\n",
    "- b) [1200, 500, 3400, 800]\n",
    "- c) [3400, 1200, 800, 500]\n",
    "- d) (500, 800, 1200, 3400)"
   ]
  },
  {
   "cell_type": "code",
   "execution_count": 18,
   "id": "c5c79a16",
   "metadata": {},
   "outputs": [
    {
     "data": {
      "text/plain": [
       "[500, 800, 1200, 3400]"
      ]
     },
     "execution_count": 18,
     "metadata": {},
     "output_type": "execute_result"
    }
   ],
   "source": [
    "precios = [1200, 500, 3400, 800]\n",
    "precios.sort()\n",
    "precios"
   ]
  },
  {
   "cell_type": "markdown",
   "id": "cb9ed73f",
   "metadata": {},
   "source": [
    "## Respuesta 17.\n",
    "- a) [500, 800, 1200, 3400]"
   ]
  },
  {
   "cell_type": "markdown",
   "id": "b2d71186",
   "metadata": {},
   "source": [
    "18.\n",
    "¿Cuál es el error?\n",
    "conjunto = {1, 2, 3}\n",
    "print(conjunto[0])\n",
    "- a) Los conjuntos no son indexables\n",
    "- b) Falta una coma\n",
    "- c) Error de sintaxis\n",
    "- d) No hay error"
   ]
  },
  {
   "cell_type": "code",
   "execution_count": 19,
   "id": "75cf8d56",
   "metadata": {},
   "outputs": [
    {
     "ename": "TypeError",
     "evalue": "'set' object is not subscriptable",
     "output_type": "error",
     "traceback": [
      "\u001b[31m---------------------------------------------------------------------------\u001b[39m",
      "\u001b[31mTypeError\u001b[39m                                 Traceback (most recent call last)",
      "\u001b[36mCell\u001b[39m\u001b[36m \u001b[39m\u001b[32mIn[19]\u001b[39m\u001b[32m, line 2\u001b[39m\n\u001b[32m      1\u001b[39m conjunto = {\u001b[32m1\u001b[39m, \u001b[32m2\u001b[39m, \u001b[32m3\u001b[39m}\n\u001b[32m----> \u001b[39m\u001b[32m2\u001b[39m \u001b[38;5;28mprint\u001b[39m(\u001b[43mconjunto\u001b[49m\u001b[43m[\u001b[49m\u001b[32;43m0\u001b[39;49m\u001b[43m]\u001b[49m)\n",
      "\u001b[31mTypeError\u001b[39m: 'set' object is not subscriptable"
     ]
    }
   ],
   "source": [
    "conjunto = {1, 2, 3}\n",
    "print(conjunto[0])"
   ]
  },
  {
   "cell_type": "markdown",
   "id": "886c6737",
   "metadata": {},
   "source": [
    "## Respuesta 18.\n",
    "- a) Los conjuntos no son indexables"
   ]
  },
  {
   "cell_type": "markdown",
   "id": "619c6eca",
   "metadata": {},
   "source": [
    "19.\n",
    "¿Qué devuelve?\n",
    "len({\"a\": 1, \"b\": 2, \"c\": 3})\n",
    "- a) 6\n",
    "- b) 3\n",
    "- c) 2\n",
    "- d) 1"
   ]
  },
  {
   "cell_type": "code",
   "execution_count": 20,
   "id": "22b8eacf",
   "metadata": {},
   "outputs": [
    {
     "data": {
      "text/plain": [
       "3"
      ]
     },
     "execution_count": 20,
     "metadata": {},
     "output_type": "execute_result"
    }
   ],
   "source": [
    "len({\"a\": 1, \"b\": 2, \"c\": 3})"
   ]
  },
  {
   "cell_type": "markdown",
   "id": "57b7f9cb",
   "metadata": {},
   "source": [
    "## Respuesta 19.\n",
    "- b) 3"
   ]
  },
  {
   "cell_type": "markdown",
   "id": "24bfd4dc",
   "metadata": {},
   "source": [
    "20.\n",
    "¿Qué resultado da?\n",
    "lista = [1, 2, 3]\n",
    "print(lista * 2)\n",
    "- a) [1, 2, 3, 1, 2, 3]\n",
    "- b) [2, 4, 6]\n",
    "- c) [1, 2, 3, 2]\n",
    "- d) Error"
   ]
  },
  {
   "cell_type": "code",
   "execution_count": 21,
   "id": "b5b0f9d1",
   "metadata": {},
   "outputs": [
    {
     "name": "stdout",
     "output_type": "stream",
     "text": [
      "[1, 2, 3, 1, 2, 3]\n"
     ]
    }
   ],
   "source": [
    "lista = [1, 2, 3]\n",
    "print(lista * 2)"
   ]
  },
  {
   "cell_type": "markdown",
   "id": "6db0c974",
   "metadata": {},
   "source": [
    "## Respuesta 20.\n",
    "- a) [1, 2, 3, 1, 2, 3]"
   ]
  },
  {
   "cell_type": "markdown",
   "id": "d8f16378",
   "metadata": {},
   "source": [
    "21.\n",
    "¿Qué ocurre?\n",
    "d = {\"a\": 1}\n",
    "d[\"a\"] = 100\n",
    "print(d)\n",
    "- a) {\"a\": 1}\n",
    "- b) {\"a\": 100}\n",
    "- c) {\"a\": 1, \"a\": 100}\n",
    "- d) Error"
   ]
  },
  {
   "cell_type": "code",
   "execution_count": 22,
   "id": "cf9cd8da",
   "metadata": {},
   "outputs": [
    {
     "name": "stdout",
     "output_type": "stream",
     "text": [
      "{'a': 100}\n"
     ]
    }
   ],
   "source": [
    "d = {\"a\": 1}\n",
    "d[\"a\"] = 100\n",
    "print(d)"
   ]
  },
  {
   "cell_type": "markdown",
   "id": "39705e12",
   "metadata": {},
   "source": [
    "## Respuesta 21.\n",
    "- b) {\"a\": 100}"
   ]
  },
  {
   "cell_type": "markdown",
   "id": "2ade93bb",
   "metadata": {},
   "source": [
    "22.\n",
    "¿Qué imprime?\n",
    "print(\"python\".upper())\n",
    "- a) PYTHON\n",
    "- b) Python\n",
    "- c) python\n",
    "- d) Error"
   ]
  },
  {
   "cell_type": "code",
   "execution_count": 23,
   "id": "2af78204",
   "metadata": {},
   "outputs": [
    {
     "name": "stdout",
     "output_type": "stream",
     "text": [
      "PYTHON\n"
     ]
    }
   ],
   "source": [
    "print(\"python\".upper())"
   ]
  },
  {
   "cell_type": "markdown",
   "id": "a8d6226d",
   "metadata": {},
   "source": [
    "## Respuesta 22.\n",
    "- a) PYTHON"
   ]
  },
  {
   "cell_type": "markdown",
   "id": "81ae9b1e",
   "metadata": {},
   "source": [
    "23.\n",
    "Completa el código para agregar el número 5 a un conjunto:\n",
    "s = {1, 2, 3}\n",
    "s.____(5)\n",
    "- a) add\n",
    "- b) append\n",
    "- c) insert\n",
    "- d) extend"
   ]
  },
  {
   "cell_type": "code",
   "execution_count": 31,
   "id": "7be23f6c",
   "metadata": {},
   "outputs": [
    {
     "data": {
      "text/plain": [
       "{1, 2, 3, 5}"
      ]
     },
     "execution_count": 31,
     "metadata": {},
     "output_type": "execute_result"
    }
   ],
   "source": [
    "s = {1, 2, 3}\n",
    "s.add(5)\n",
    "s"
   ]
  },
  {
   "cell_type": "markdown",
   "id": "6c1b26c6",
   "metadata": {},
   "source": [
    "## Respuesta 23.\n",
    "- a) add\n"
   ]
  },
  {
   "cell_type": "markdown",
   "id": "9b01f9b4",
   "metadata": {},
   "source": [
    "24.\n",
    "¿Cuál es la salida?\n",
    "d = {\"x\": 10, \"y\": 20}\n",
    "print(\"x\" in d)\n",
    "- a) False\n",
    "- b) True\n",
    "- c) Error\n",
    "- d) None"
   ]
  },
  {
   "cell_type": "code",
   "execution_count": 32,
   "id": "3da5b8c4",
   "metadata": {},
   "outputs": [
    {
     "name": "stdout",
     "output_type": "stream",
     "text": [
      "True\n"
     ]
    }
   ],
   "source": [
    "d = {\"x\": 10, \"y\": 20}\n",
    "print(\"x\" in d)"
   ]
  },
  {
   "cell_type": "markdown",
   "id": "351dcd0f",
   "metadata": {},
   "source": [
    "## Respuesta 24.\n",
    "- b) True"
   ]
  },
  {
   "cell_type": "markdown",
   "id": "56842308",
   "metadata": {},
   "source": [
    "25.\n",
    "¿Qué imprime?\n",
    "print([1, 2, 3] == [1, 2, 3])\n",
    "- a) True\n",
    "- b) False\n",
    "- c) None\n",
    "- d) Error"
   ]
  },
  {
   "cell_type": "code",
   "execution_count": 33,
   "id": "55617477",
   "metadata": {},
   "outputs": [
    {
     "name": "stdout",
     "output_type": "stream",
     "text": [
      "True\n"
     ]
    }
   ],
   "source": [
    "print([1, 2, 3] == [1, 2, 3])"
   ]
  },
  {
   "cell_type": "markdown",
   "id": "ef628983",
   "metadata": {},
   "source": [
    "## Respuesta 25. \n",
    "- a) True"
   ]
  },
  {
   "cell_type": "markdown",
   "id": "1983dd73",
   "metadata": {},
   "source": [
    "26.\n",
    "for i in range(5):\n",
    " print(i)\n",
    "¿Qué se imprimirá en pantalla?\n",
    "- a) 1 2 3 4 5\n",
    "- b) 0 1 2 3 4 5\n",
    "- c) 0 1 2 3 4\n",
    "- d) 5 4 3 2 1"
   ]
  },
  {
   "cell_type": "code",
   "execution_count": 34,
   "id": "65b574c6",
   "metadata": {},
   "outputs": [
    {
     "name": "stdout",
     "output_type": "stream",
     "text": [
      "0\n",
      "1\n",
      "2\n",
      "3\n",
      "4\n"
     ]
    }
   ],
   "source": [
    "for i in range(5):\n",
    " print(i)"
   ]
  },
  {
   "cell_type": "markdown",
   "id": "15b25db2",
   "metadata": {},
   "source": [
    "## Respuesta 26.\n",
    "- c) 0 1 2 3 4"
   ]
  },
  {
   "cell_type": "markdown",
   "id": "281bb191",
   "metadata": {},
   "source": [
    "27.\n",
    "¿Qué ocurre?\n",
    "s = {1, 2, 3}\n",
    "s.remove(4)\n",
    "- a) Borra 4 del conjunto\n",
    "- b) No hace nada\n",
    "- c) Lanza un error\n",
    "- d) Convierte a lista"
   ]
  },
  {
   "cell_type": "code",
   "execution_count": 37,
   "id": "ad489ca3",
   "metadata": {},
   "outputs": [
    {
     "ename": "KeyError",
     "evalue": "4",
     "output_type": "error",
     "traceback": [
      "\u001b[31m---------------------------------------------------------------------------\u001b[39m",
      "\u001b[31mKeyError\u001b[39m                                  Traceback (most recent call last)",
      "\u001b[36mCell\u001b[39m\u001b[36m \u001b[39m\u001b[32mIn[37]\u001b[39m\u001b[32m, line 2\u001b[39m\n\u001b[32m      1\u001b[39m s = {\u001b[32m1\u001b[39m, \u001b[32m2\u001b[39m, \u001b[32m3\u001b[39m}\n\u001b[32m----> \u001b[39m\u001b[32m2\u001b[39m \u001b[43ms\u001b[49m\u001b[43m.\u001b[49m\u001b[43mremove\u001b[49m\u001b[43m(\u001b[49m\u001b[32;43m4\u001b[39;49m\u001b[43m)\u001b[49m\n",
      "\u001b[31mKeyError\u001b[39m: 4"
     ]
    }
   ],
   "source": [
    "s = {1, 2, 3}\n",
    "s.remove(4)"
   ]
  },
  {
   "cell_type": "markdown",
   "id": "18667c36",
   "metadata": {},
   "source": [
    "## Respuesta 27.\n",
    "- c) Lanza un error"
   ]
  },
  {
   "cell_type": "markdown",
   "id": "9b2ffc4f",
   "metadata": {},
   "source": [
    "Tienes el siguiente texto:\n",
    "texto = \"Colombia México Perú Chile\"\n",
    "paises = texto.split()\n",
    "¿Qué contendrá la variable paises?\n",
    "- a) \"Colombia,México,Perú,Chile\"\n",
    "- b) [\"Colombia\", \"México\", \"Perú\", \"Chile\"]\n",
    "- c) [\"Colombia México Perú Chile\"]\n",
    "- d) (\"Colombia\", \"México\", \"Perú\", \"Chile\")"
   ]
  },
  {
   "cell_type": "code",
   "execution_count": 38,
   "id": "23e7d1ad",
   "metadata": {},
   "outputs": [
    {
     "data": {
      "text/plain": [
       "['Colombia', 'México', 'Perú', 'Chile']"
      ]
     },
     "execution_count": 38,
     "metadata": {},
     "output_type": "execute_result"
    }
   ],
   "source": [
    "texto = \"Colombia México Perú Chile\"\n",
    "paises = texto.split()\n",
    "paises"
   ]
  },
  {
   "cell_type": "markdown",
   "id": "6de56a5c",
   "metadata": {},
   "source": [
    "## Respuesta 28\n",
    "- b) [\"Colombia\", \"México\", \"Perú\", \"Chile\"]"
   ]
  },
  {
   "cell_type": "markdown",
   "id": "32e313b1",
   "metadata": {},
   "source": [
    "29.\n",
    "ventas = \"1000;2500;3200;4500\"\n",
    "valores = ventas.split(\";\")\n",
    "¿Qué resultado produce valores?\n",
    "- a) [\"1000\", \"2500\", \"3200\", \"4500\"]\n",
    "- b) [1000, 2500, 3200, 4500]\n",
    "- c) (\"1000\", \"2500\", \"3200\", \"4500\")\n",
    "- d) \"1000 2500 3200 4500\""
   ]
  },
  {
   "cell_type": "code",
   "execution_count": 40,
   "id": "a8a0307b",
   "metadata": {},
   "outputs": [
    {
     "data": {
      "text/plain": [
       "['1000', '2500', '3200', '4500']"
      ]
     },
     "execution_count": 40,
     "metadata": {},
     "output_type": "execute_result"
    }
   ],
   "source": [
    "ventas = \"1000;2500;3200;4500\"\n",
    "valores = ventas.split(\";\")\n",
    "valores"
   ]
  },
  {
   "cell_type": "markdown",
   "id": "cdc5d037",
   "metadata": {},
   "source": [
    "## Respuesta 29.\n",
    "- a) [\"1000\", \"2500\", \"3200\", \"4500\"]"
   ]
  },
  {
   "cell_type": "markdown",
   "id": "14925450",
   "metadata": {},
   "source": [
    "30.\n",
    "palabras = [\"Economía\", \"Mercados\", \"Exportaciones\"]\n",
    "texto = \" - \".join(palabras)\n",
    "¿Cuál será el contenido de texto?\n",
    "- a) [\"Economía - Mercados - Exportaciones\"]\n",
    "- b) \"Economía - Mercados - Exportaciones\"\n",
    "- c) \"Economía Mercados Exportaciones\"\n",
    "- d) (\"Economía - Mercados - Exportaciones\")"
   ]
  },
  {
   "cell_type": "code",
   "execution_count": 41,
   "id": "cd946049",
   "metadata": {},
   "outputs": [
    {
     "data": {
      "text/plain": [
       "'Economía - Mercados - Exportaciones'"
      ]
     },
     "execution_count": 41,
     "metadata": {},
     "output_type": "execute_result"
    }
   ],
   "source": [
    "palabras = [\"Economía\", \"Mercados\", \"Exportaciones\"]\n",
    "texto = \" - \".join(palabras)\n",
    "texto"
   ]
  },
  {
   "cell_type": "markdown",
   "id": "9269d614",
   "metadata": {},
   "source": [
    "## Respuesta 30.\n",
    "- b) \"Economía - Mercados - Exportaciones\""
   ]
  },
  {
   "cell_type": "markdown",
   "id": "088d72ee",
   "metadata": {},
   "source": [
    "31.\n",
    "empresas = [\"Amazon\", \"Google\", \"Microsoft\", \"Apple\"]\n",
    "empresas.sort()\n",
    "¿Qué contendrá empresas después de ejecutar el código?\n",
    "- a) [\"Amazon\", \"Apple\", \"Google\", \"Microsoft\"]\n",
    "- b) [\"Amazon\", \"Google\", \"Microsoft\", \"Apple\"]\n",
    "- c) [\"Microsoft\", \"Google\", \"Apple\", \"Amazon\"]\n",
    "- d) (\"Apple\", \"Amazon\", \"Google\", \"Microsoft\")"
   ]
  },
  {
   "cell_type": "code",
   "execution_count": 43,
   "id": "959df8ca",
   "metadata": {},
   "outputs": [
    {
     "data": {
      "text/plain": [
       "['Amazon', 'Apple', 'Google', 'Microsoft']"
      ]
     },
     "execution_count": 43,
     "metadata": {},
     "output_type": "execute_result"
    }
   ],
   "source": [
    "empresas = [\"Amazon\", \"Google\", \"Microsoft\", \"Apple\"]\n",
    "empresas.sort()\n",
    "empresas"
   ]
  },
  {
   "cell_type": "markdown",
   "id": "07fd8a35",
   "metadata": {},
   "source": [
    "## Respuesta 31.\n",
    "- a) [\"Amazon\", \"Apple\", \"Google\", \"Microsoft\"]"
   ]
  },
  {
   "cell_type": "markdown",
   "id": "bcefa6b1",
   "metadata": {},
   "source": [
    "32.\n",
    "numeros = list(range(2, 10, 2))\n",
    "¿Qué contendrá la lista numeros?\n",
    "- a) [2, 4, 6, 8]\n",
    "- b) [2, 3, 4, 5, 6, 7, 8, 9]\n",
    "- c) [2, 6, 10]\n",
    "- d) [2, 4, 6, 8, 10]"
   ]
  },
  {
   "cell_type": "code",
   "execution_count": 45,
   "id": "0dc98397",
   "metadata": {},
   "outputs": [
    {
     "data": {
      "text/plain": [
       "[2, 4, 6, 8]"
      ]
     },
     "execution_count": 45,
     "metadata": {},
     "output_type": "execute_result"
    }
   ],
   "source": [
    "numeros = list(range(2, 10, 2))\n",
    "numeros"
   ]
  },
  {
   "cell_type": "markdown",
   "id": "935ceae8",
   "metadata": {},
   "source": [
    "## Respuesta 32.\n",
    "- a) [2, 4, 6, 8]"
   ]
  }
 ],
 "metadata": {
  "kernelspec": {
   "display_name": ".venv",
   "language": "python",
   "name": "python3"
  },
  "language_info": {
   "codemirror_mode": {
    "name": "ipython",
    "version": 3
   },
   "file_extension": ".py",
   "mimetype": "text/x-python",
   "name": "python",
   "nbconvert_exporter": "python",
   "pygments_lexer": "ipython3",
   "version": "3.13.7"
  }
 },
 "nbformat": 4,
 "nbformat_minor": 5
}
